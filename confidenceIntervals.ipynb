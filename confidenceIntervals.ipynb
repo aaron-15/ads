{
 "cells": [
  {
   "cell_type": "code",
   "execution_count": 1,
   "metadata": {
    "collapsed": true
   },
   "outputs": [],
   "source": [
    "import numpy as np\n",
    "import pandas as pd\n",
    "import statsmodels.formula.api as smf\n",
    "from scipy.stats import t\n",
    "import matplotlib.pyplot as plt\n",
    "%matplotlib inline"
   ]
  },
  {
   "cell_type": "code",
   "execution_count": 2,
   "metadata": {
    "collapsed": false
   },
   "outputs": [
    {
     "data": {
      "text/html": [
       "<div>\n",
       "<table border=\"1\" class=\"dataframe\">\n",
       "  <thead>\n",
       "    <tr style=\"text-align: right;\">\n",
       "      <th></th>\n",
       "      <th>Price</th>\n",
       "      <th>Mileage</th>\n",
       "      <th>Make</th>\n",
       "      <th>Model</th>\n",
       "      <th>Trim</th>\n",
       "      <th>Type</th>\n",
       "      <th>Cylinder</th>\n",
       "      <th>Liter</th>\n",
       "      <th>Doors</th>\n",
       "      <th>Cruise</th>\n",
       "      <th>Sound</th>\n",
       "      <th>Leather</th>\n",
       "    </tr>\n",
       "  </thead>\n",
       "  <tbody>\n",
       "    <tr>\n",
       "      <th>0</th>\n",
       "      <td>17314.103129</td>\n",
       "      <td>8221</td>\n",
       "      <td>Buick</td>\n",
       "      <td>Century</td>\n",
       "      <td>Sedan 4D</td>\n",
       "      <td>Sedan</td>\n",
       "      <td>6</td>\n",
       "      <td>3.1</td>\n",
       "      <td>4</td>\n",
       "      <td>1</td>\n",
       "      <td>1</td>\n",
       "      <td>1</td>\n",
       "    </tr>\n",
       "    <tr>\n",
       "      <th>1</th>\n",
       "      <td>17542.036083</td>\n",
       "      <td>9135</td>\n",
       "      <td>Buick</td>\n",
       "      <td>Century</td>\n",
       "      <td>Sedan 4D</td>\n",
       "      <td>Sedan</td>\n",
       "      <td>6</td>\n",
       "      <td>3.1</td>\n",
       "      <td>4</td>\n",
       "      <td>1</td>\n",
       "      <td>1</td>\n",
       "      <td>0</td>\n",
       "    </tr>\n",
       "    <tr>\n",
       "      <th>2</th>\n",
       "      <td>16218.847862</td>\n",
       "      <td>13196</td>\n",
       "      <td>Buick</td>\n",
       "      <td>Century</td>\n",
       "      <td>Sedan 4D</td>\n",
       "      <td>Sedan</td>\n",
       "      <td>6</td>\n",
       "      <td>3.1</td>\n",
       "      <td>4</td>\n",
       "      <td>1</td>\n",
       "      <td>1</td>\n",
       "      <td>0</td>\n",
       "    </tr>\n",
       "    <tr>\n",
       "      <th>3</th>\n",
       "      <td>16336.913140</td>\n",
       "      <td>16342</td>\n",
       "      <td>Buick</td>\n",
       "      <td>Century</td>\n",
       "      <td>Sedan 4D</td>\n",
       "      <td>Sedan</td>\n",
       "      <td>6</td>\n",
       "      <td>3.1</td>\n",
       "      <td>4</td>\n",
       "      <td>1</td>\n",
       "      <td>0</td>\n",
       "      <td>0</td>\n",
       "    </tr>\n",
       "    <tr>\n",
       "      <th>4</th>\n",
       "      <td>16339.170324</td>\n",
       "      <td>19832</td>\n",
       "      <td>Buick</td>\n",
       "      <td>Century</td>\n",
       "      <td>Sedan 4D</td>\n",
       "      <td>Sedan</td>\n",
       "      <td>6</td>\n",
       "      <td>3.1</td>\n",
       "      <td>4</td>\n",
       "      <td>1</td>\n",
       "      <td>0</td>\n",
       "      <td>1</td>\n",
       "    </tr>\n",
       "  </tbody>\n",
       "</table>\n",
       "</div>"
      ],
      "text/plain": [
       "          Price  Mileage   Make    Model      Trim   Type  Cylinder  Liter  \\\n",
       "0  17314.103129     8221  Buick  Century  Sedan 4D  Sedan         6    3.1   \n",
       "1  17542.036083     9135  Buick  Century  Sedan 4D  Sedan         6    3.1   \n",
       "2  16218.847862    13196  Buick  Century  Sedan 4D  Sedan         6    3.1   \n",
       "3  16336.913140    16342  Buick  Century  Sedan 4D  Sedan         6    3.1   \n",
       "4  16339.170324    19832  Buick  Century  Sedan 4D  Sedan         6    3.1   \n",
       "\n",
       "   Doors  Cruise  Sound  Leather  \n",
       "0      4       1      1        1  \n",
       "1      4       1      1        0  \n",
       "2      4       1      1        0  \n",
       "3      4       1      0        0  \n",
       "4      4       1      0        1  "
      ]
     },
     "execution_count": 2,
     "metadata": {},
     "output_type": "execute_result"
    }
   ],
   "source": [
    "url = 'https://serv.cusp.nyu.edu/~cq299/ADS2016/Data/Car.xls'\n",
    "df = pd.read_excel(url)\n",
    "df.head()"
   ]
  },
  {
   "cell_type": "code",
   "execution_count": 3,
   "metadata": {
    "collapsed": false
   },
   "outputs": [
    {
     "name": "stdout",
     "output_type": "stream",
     "text": [
      "                            OLS Regression Results                            \n",
      "==============================================================================\n",
      "Dep. Variable:                  Price   R-squared:                       0.879\n",
      "Model:                            OLS   Adj. R-squared:                  0.877\n",
      "Method:                 Least Squares   F-statistic:                     479.0\n",
      "Date:                Sun, 30 Oct 2016   Prob (F-statistic):               0.00\n",
      "Time:                        19:17:56   Log-Likelihood:                -7687.0\n",
      "No. Observations:                 804   AIC:                         1.540e+04\n",
      "Df Residuals:                     791   BIC:                         1.546e+04\n",
      "Df Model:                          12                                         \n",
      "Covariance Type:            nonrobust                                         \n",
      "=====================================================================================\n",
      "                        coef    std err          t      P>|t|      [95.0% Conf. Int.]\n",
      "-------------------------------------------------------------------------------------\n",
      "Intercept          1.572e+04   1289.586     12.187      0.000      1.32e+04  1.82e+04\n",
      "Make[T.Cadillac]   1.627e+04    662.429     24.564      0.000       1.5e+04  1.76e+04\n",
      "Make[T.Chevrolet] -2237.3396    483.939     -4.623      0.000     -3187.297 -1287.382\n",
      "Make[T.Pontiac]   -1779.0181    496.544     -3.583      0.000     -2753.718  -804.318\n",
      "Make[T.SAAB]       1.464e+04    589.595     24.830      0.000      1.35e+04  1.58e+04\n",
      "Make[T.Saturn]    -2311.6230    655.461     -3.527      0.000     -3598.271 -1024.975\n",
      "Mileage              -0.1804      0.015    -12.050      0.000        -0.210    -0.151\n",
      "Cylinder           -215.0175    404.027     -0.532      0.595     -1008.110   578.075\n",
      "Liter              4760.4180    459.970     10.349      0.000      3857.513  5663.324\n",
      "Doors             -1710.0569    155.249    -11.015      0.000     -2014.805 -1405.309\n",
      "Cruise             -503.8479    346.723     -1.453      0.147     -1184.454   176.758\n",
      "Sound               -44.0784    277.268     -0.159      0.874      -588.348   500.191\n",
      "Leather              25.4588    299.765      0.085      0.932      -562.971   613.888\n",
      "==============================================================================\n",
      "Omnibus:                      402.163   Durbin-Watson:                   0.230\n",
      "Prob(Omnibus):                  0.000   Jarque-Bera (JB):             4473.412\n",
      "Skew:                           1.991   Prob(JB):                         0.00\n",
      "Kurtosis:                      13.848   Cond. No.                     2.59e+05\n",
      "==============================================================================\n",
      "\n",
      "Warnings:\n",
      "[1] Standard Errors assume that the covariance matrix of the errors is correctly specified.\n",
      "[2] The condition number is large, 2.59e+05. This might indicate that there are\n",
      "strong multicollinearity or other numerical problems.\n"
     ]
    }
   ],
   "source": [
    "model = smf.ols(formula = 'Price ~ Mileage + Make + Cylinder + Liter + Doors + Cruise + Sound + Leather',\n",
    "                data = df).fit()\n",
    "print model.summary()"
   ]
  },
  {
   "cell_type": "code",
   "execution_count": 4,
   "metadata": {
    "collapsed": false
   },
   "outputs": [
    {
     "name": "stdout",
     "output_type": "stream",
     "text": [
      "For each additional Liter of tank capacity,the expected price increase (the remains variables remaining the same)is 4760.4 dollars\n"
     ]
    }
   ],
   "source": [
    "print 'For each additional Liter of tank capacity,\\\n",
    "the expected price increase (the remains variables remaining the same)\\\n",
    "is %.1f dollars' % model.params['Liter']"
   ]
  },
  {
   "cell_type": "code",
   "execution_count": 5,
   "metadata": {
    "collapsed": false
   },
   "outputs": [
    {
     "name": "stdout",
     "output_type": "stream",
     "text": [
      "The probability that X > $4500 is 0.71\n"
     ]
    }
   ],
   "source": [
    "# What's the probability that X > $4500?\n",
    "prob4500 = t.sf(4500, df = model.df_resid, loc=model.params['Liter'], scale=model.bse['Liter'])\n",
    "print 'The probability that X > $4500 is %.2f' % prob4500"
   ]
  },
  {
   "cell_type": "code",
   "execution_count": 7,
   "metadata": {
    "collapsed": false
   },
   "outputs": [
    {
     "data": {
      "text/plain": [
       "(4002.9481807923521, 5517.8878655819717)"
      ]
     },
     "execution_count": 7,
     "metadata": {},
     "output_type": "execute_result"
    }
   ],
   "source": [
    "# What's the two-sided 90% confidence interval of X?\n",
    "t.interval(0.90, df = model.df_resid,\n",
    "           loc = model.params['Liter'], \n",
    "           scale = model.bse['Liter'])"
   ]
  },
  {
   "cell_type": "code",
   "execution_count": 9,
   "metadata": {
    "collapsed": false
   },
   "outputs": [
    {
     "name": "stdout",
     "output_type": "stream",
     "text": [
      "The  one-sided 90 percentupper interval is 5350.4\n"
     ]
    }
   ],
   "source": [
    "#What's the one-sided 90% confidence interval of X? Calculate the upper interval  [X0,+∞)\n",
    "uppCI = t.isf(.10, df = model.df_resid,\n",
    "           loc = model.params['Liter'], \n",
    "           scale = model.bse['Liter'])  \n",
    "\n",
    "print 'The  one-sided 90 percentupper interval is %.1f' % uppCI"
   ]
  },
  {
   "cell_type": "code",
   "execution_count": null,
   "metadata": {
    "collapsed": true
   },
   "outputs": [],
   "source": []
  }
 ],
 "metadata": {
  "kernelspec": {
   "display_name": "Python [Root]",
   "language": "python",
   "name": "Python [Root]"
  },
  "language_info": {
   "codemirror_mode": {
    "name": "ipython",
    "version": 2
   },
   "file_extension": ".py",
   "mimetype": "text/x-python",
   "name": "python",
   "nbconvert_exporter": "python",
   "pygments_lexer": "ipython2",
   "version": "2.7.12"
  }
 },
 "nbformat": 4,
 "nbformat_minor": 0
}
